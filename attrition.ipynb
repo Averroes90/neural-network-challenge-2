{
  "cells": [
    {
      "cell_type": "markdown",
      "metadata": {
        "id": "alIIEHibGc3M"
      },
      "source": [
        "## Part 1: Preprocessing\n"
      ]
    },
    {
      "cell_type": "code",
      "execution_count": 1,
      "metadata": {
        "colab": {
          "base_uri": "https://localhost:8080/",
          "height": 325
        },
        "id": "6eDUJ4NtGc3P",
        "outputId": "2480098c-135c-4cbf-9552-018494ee8ff5"
      },
      "outputs": [
        {
          "data": {
            "text/html": [
              "<div>\n",
              "<style scoped>\n",
              "    .dataframe tbody tr th:only-of-type {\n",
              "        vertical-align: middle;\n",
              "    }\n",
              "\n",
              "    .dataframe tbody tr th {\n",
              "        vertical-align: top;\n",
              "    }\n",
              "\n",
              "    .dataframe thead th {\n",
              "        text-align: right;\n",
              "    }\n",
              "</style>\n",
              "<table border=\"1\" class=\"dataframe\">\n",
              "  <thead>\n",
              "    <tr style=\"text-align: right;\">\n",
              "      <th></th>\n",
              "      <th>Age</th>\n",
              "      <th>Attrition</th>\n",
              "      <th>BusinessTravel</th>\n",
              "      <th>Department</th>\n",
              "      <th>DistanceFromHome</th>\n",
              "      <th>Education</th>\n",
              "      <th>EducationField</th>\n",
              "      <th>EnvironmentSatisfaction</th>\n",
              "      <th>HourlyRate</th>\n",
              "      <th>JobInvolvement</th>\n",
              "      <th>...</th>\n",
              "      <th>PerformanceRating</th>\n",
              "      <th>RelationshipSatisfaction</th>\n",
              "      <th>StockOptionLevel</th>\n",
              "      <th>TotalWorkingYears</th>\n",
              "      <th>TrainingTimesLastYear</th>\n",
              "      <th>WorkLifeBalance</th>\n",
              "      <th>YearsAtCompany</th>\n",
              "      <th>YearsInCurrentRole</th>\n",
              "      <th>YearsSinceLastPromotion</th>\n",
              "      <th>YearsWithCurrManager</th>\n",
              "    </tr>\n",
              "  </thead>\n",
              "  <tbody>\n",
              "    <tr>\n",
              "      <th>0</th>\n",
              "      <td>41</td>\n",
              "      <td>Yes</td>\n",
              "      <td>Travel_Rarely</td>\n",
              "      <td>Sales</td>\n",
              "      <td>1</td>\n",
              "      <td>2</td>\n",
              "      <td>Life Sciences</td>\n",
              "      <td>2</td>\n",
              "      <td>94</td>\n",
              "      <td>3</td>\n",
              "      <td>...</td>\n",
              "      <td>3</td>\n",
              "      <td>1</td>\n",
              "      <td>0</td>\n",
              "      <td>8</td>\n",
              "      <td>0</td>\n",
              "      <td>1</td>\n",
              "      <td>6</td>\n",
              "      <td>4</td>\n",
              "      <td>0</td>\n",
              "      <td>5</td>\n",
              "    </tr>\n",
              "    <tr>\n",
              "      <th>1</th>\n",
              "      <td>49</td>\n",
              "      <td>No</td>\n",
              "      <td>Travel_Frequently</td>\n",
              "      <td>Research &amp; Development</td>\n",
              "      <td>8</td>\n",
              "      <td>1</td>\n",
              "      <td>Life Sciences</td>\n",
              "      <td>3</td>\n",
              "      <td>61</td>\n",
              "      <td>2</td>\n",
              "      <td>...</td>\n",
              "      <td>4</td>\n",
              "      <td>4</td>\n",
              "      <td>1</td>\n",
              "      <td>10</td>\n",
              "      <td>3</td>\n",
              "      <td>3</td>\n",
              "      <td>10</td>\n",
              "      <td>7</td>\n",
              "      <td>1</td>\n",
              "      <td>7</td>\n",
              "    </tr>\n",
              "    <tr>\n",
              "      <th>2</th>\n",
              "      <td>37</td>\n",
              "      <td>Yes</td>\n",
              "      <td>Travel_Rarely</td>\n",
              "      <td>Research &amp; Development</td>\n",
              "      <td>2</td>\n",
              "      <td>2</td>\n",
              "      <td>Other</td>\n",
              "      <td>4</td>\n",
              "      <td>92</td>\n",
              "      <td>2</td>\n",
              "      <td>...</td>\n",
              "      <td>3</td>\n",
              "      <td>2</td>\n",
              "      <td>0</td>\n",
              "      <td>7</td>\n",
              "      <td>3</td>\n",
              "      <td>3</td>\n",
              "      <td>0</td>\n",
              "      <td>0</td>\n",
              "      <td>0</td>\n",
              "      <td>0</td>\n",
              "    </tr>\n",
              "    <tr>\n",
              "      <th>3</th>\n",
              "      <td>33</td>\n",
              "      <td>No</td>\n",
              "      <td>Travel_Frequently</td>\n",
              "      <td>Research &amp; Development</td>\n",
              "      <td>3</td>\n",
              "      <td>4</td>\n",
              "      <td>Life Sciences</td>\n",
              "      <td>4</td>\n",
              "      <td>56</td>\n",
              "      <td>3</td>\n",
              "      <td>...</td>\n",
              "      <td>3</td>\n",
              "      <td>3</td>\n",
              "      <td>0</td>\n",
              "      <td>8</td>\n",
              "      <td>3</td>\n",
              "      <td>3</td>\n",
              "      <td>8</td>\n",
              "      <td>7</td>\n",
              "      <td>3</td>\n",
              "      <td>0</td>\n",
              "    </tr>\n",
              "    <tr>\n",
              "      <th>4</th>\n",
              "      <td>27</td>\n",
              "      <td>No</td>\n",
              "      <td>Travel_Rarely</td>\n",
              "      <td>Research &amp; Development</td>\n",
              "      <td>2</td>\n",
              "      <td>1</td>\n",
              "      <td>Medical</td>\n",
              "      <td>1</td>\n",
              "      <td>40</td>\n",
              "      <td>3</td>\n",
              "      <td>...</td>\n",
              "      <td>3</td>\n",
              "      <td>4</td>\n",
              "      <td>1</td>\n",
              "      <td>6</td>\n",
              "      <td>3</td>\n",
              "      <td>3</td>\n",
              "      <td>2</td>\n",
              "      <td>2</td>\n",
              "      <td>2</td>\n",
              "      <td>2</td>\n",
              "    </tr>\n",
              "  </tbody>\n",
              "</table>\n",
              "<p>5 rows × 27 columns</p>\n",
              "</div>"
            ],
            "text/plain": [
              "   Age Attrition     BusinessTravel              Department  DistanceFromHome  \\\n",
              "0   41       Yes      Travel_Rarely                   Sales                 1   \n",
              "1   49        No  Travel_Frequently  Research & Development                 8   \n",
              "2   37       Yes      Travel_Rarely  Research & Development                 2   \n",
              "3   33        No  Travel_Frequently  Research & Development                 3   \n",
              "4   27        No      Travel_Rarely  Research & Development                 2   \n",
              "\n",
              "   Education EducationField  EnvironmentSatisfaction  HourlyRate  \\\n",
              "0          2  Life Sciences                        2          94   \n",
              "1          1  Life Sciences                        3          61   \n",
              "2          2          Other                        4          92   \n",
              "3          4  Life Sciences                        4          56   \n",
              "4          1        Medical                        1          40   \n",
              "\n",
              "   JobInvolvement  ...  PerformanceRating RelationshipSatisfaction  \\\n",
              "0               3  ...                  3                        1   \n",
              "1               2  ...                  4                        4   \n",
              "2               2  ...                  3                        2   \n",
              "3               3  ...                  3                        3   \n",
              "4               3  ...                  3                        4   \n",
              "\n",
              "   StockOptionLevel TotalWorkingYears  TrainingTimesLastYear WorkLifeBalance  \\\n",
              "0                 0                 8                      0               1   \n",
              "1                 1                10                      3               3   \n",
              "2                 0                 7                      3               3   \n",
              "3                 0                 8                      3               3   \n",
              "4                 1                 6                      3               3   \n",
              "\n",
              "   YearsAtCompany  YearsInCurrentRole  YearsSinceLastPromotion  \\\n",
              "0               6                   4                        0   \n",
              "1              10                   7                        1   \n",
              "2               0                   0                        0   \n",
              "3               8                   7                        3   \n",
              "4               2                   2                        2   \n",
              "\n",
              "   YearsWithCurrManager  \n",
              "0                     5  \n",
              "1                     7  \n",
              "2                     0  \n",
              "3                     0  \n",
              "4                     2  \n",
              "\n",
              "[5 rows x 27 columns]"
            ]
          },
          "execution_count": 1,
          "metadata": {},
          "output_type": "execute_result"
        }
      ],
      "source": [
        "# Import our dependencies\n",
        "from sklearn.model_selection import train_test_split\n",
        "from sklearn.preprocessing import StandardScaler\n",
        "import pandas as pd\n",
        "import numpy as np\n",
        "from tensorflow.keras.models import Model\n",
        "from tensorflow.keras import layers\n",
        "\n",
        "#  Import and read the attrition data\n",
        "attrition_df = pd.read_csv(\n",
        "    \"https://static.bc-edx.com/ai/ail-v-1-0/m19/lms/datasets/attrition.csv\"\n",
        ")\n",
        "attrition_df.head()"
      ]
    },
    {
      "cell_type": "code",
      "execution_count": 2,
      "metadata": {
        "colab": {
          "base_uri": "https://localhost:8080/"
        },
        "id": "g22aQSY4Gc3Q",
        "outputId": "1f5c13c1-b981-4e40-a7ed-dd3fe6f1b81e"
      },
      "outputs": [
        {
          "data": {
            "text/plain": [
              "Age                         43\n",
              "Attrition                    2\n",
              "BusinessTravel               3\n",
              "Department                   3\n",
              "DistanceFromHome            29\n",
              "Education                    5\n",
              "EducationField               6\n",
              "EnvironmentSatisfaction      4\n",
              "HourlyRate                  71\n",
              "JobInvolvement               4\n",
              "JobLevel                     5\n",
              "JobRole                      9\n",
              "JobSatisfaction              4\n",
              "MaritalStatus                3\n",
              "NumCompaniesWorked          10\n",
              "OverTime                     2\n",
              "PercentSalaryHike           15\n",
              "PerformanceRating            2\n",
              "RelationshipSatisfaction     4\n",
              "StockOptionLevel             4\n",
              "TotalWorkingYears           40\n",
              "TrainingTimesLastYear        7\n",
              "WorkLifeBalance              4\n",
              "YearsAtCompany              37\n",
              "YearsInCurrentRole          19\n",
              "YearsSinceLastPromotion     16\n",
              "YearsWithCurrManager        18\n",
              "dtype: int64"
            ]
          },
          "execution_count": 2,
          "metadata": {},
          "output_type": "execute_result"
        }
      ],
      "source": [
        "# Determine the number of unique values in each column.\n",
        "attrition_df.nunique()"
      ]
    },
    {
      "cell_type": "code",
      "execution_count": 3,
      "metadata": {
        "id": "50vMgBEnJbfM"
      },
      "outputs": [
        {
          "data": {
            "text/html": [
              "<div>\n",
              "<style scoped>\n",
              "    .dataframe tbody tr th:only-of-type {\n",
              "        vertical-align: middle;\n",
              "    }\n",
              "\n",
              "    .dataframe tbody tr th {\n",
              "        vertical-align: top;\n",
              "    }\n",
              "\n",
              "    .dataframe thead th {\n",
              "        text-align: right;\n",
              "    }\n",
              "</style>\n",
              "<table border=\"1\" class=\"dataframe\">\n",
              "  <thead>\n",
              "    <tr style=\"text-align: right;\">\n",
              "      <th></th>\n",
              "      <th>Attrition</th>\n",
              "      <th>Department</th>\n",
              "    </tr>\n",
              "  </thead>\n",
              "  <tbody>\n",
              "    <tr>\n",
              "      <th>0</th>\n",
              "      <td>Yes</td>\n",
              "      <td>Sales</td>\n",
              "    </tr>\n",
              "    <tr>\n",
              "      <th>1</th>\n",
              "      <td>No</td>\n",
              "      <td>Research &amp; Development</td>\n",
              "    </tr>\n",
              "    <tr>\n",
              "      <th>2</th>\n",
              "      <td>Yes</td>\n",
              "      <td>Research &amp; Development</td>\n",
              "    </tr>\n",
              "    <tr>\n",
              "      <th>3</th>\n",
              "      <td>No</td>\n",
              "      <td>Research &amp; Development</td>\n",
              "    </tr>\n",
              "    <tr>\n",
              "      <th>4</th>\n",
              "      <td>No</td>\n",
              "      <td>Research &amp; Development</td>\n",
              "    </tr>\n",
              "    <tr>\n",
              "      <th>...</th>\n",
              "      <td>...</td>\n",
              "      <td>...</td>\n",
              "    </tr>\n",
              "    <tr>\n",
              "      <th>1465</th>\n",
              "      <td>No</td>\n",
              "      <td>Research &amp; Development</td>\n",
              "    </tr>\n",
              "    <tr>\n",
              "      <th>1466</th>\n",
              "      <td>No</td>\n",
              "      <td>Research &amp; Development</td>\n",
              "    </tr>\n",
              "    <tr>\n",
              "      <th>1467</th>\n",
              "      <td>No</td>\n",
              "      <td>Research &amp; Development</td>\n",
              "    </tr>\n",
              "    <tr>\n",
              "      <th>1468</th>\n",
              "      <td>No</td>\n",
              "      <td>Sales</td>\n",
              "    </tr>\n",
              "    <tr>\n",
              "      <th>1469</th>\n",
              "      <td>No</td>\n",
              "      <td>Research &amp; Development</td>\n",
              "    </tr>\n",
              "  </tbody>\n",
              "</table>\n",
              "<p>1470 rows × 2 columns</p>\n",
              "</div>"
            ],
            "text/plain": [
              "     Attrition              Department\n",
              "0          Yes                   Sales\n",
              "1           No  Research & Development\n",
              "2          Yes  Research & Development\n",
              "3           No  Research & Development\n",
              "4           No  Research & Development\n",
              "...        ...                     ...\n",
              "1465        No  Research & Development\n",
              "1466        No  Research & Development\n",
              "1467        No  Research & Development\n",
              "1468        No                   Sales\n",
              "1469        No  Research & Development\n",
              "\n",
              "[1470 rows x 2 columns]"
            ]
          },
          "execution_count": 3,
          "metadata": {},
          "output_type": "execute_result"
        }
      ],
      "source": [
        "# Create y_df with the Attrition and Department columns\n",
        "y_df = attrition_df[[\"Attrition\", \"Department\"]]\n",
        "y_df"
      ]
    },
    {
      "cell_type": "code",
      "execution_count": 4,
      "metadata": {
        "colab": {
          "base_uri": "https://localhost:8080/"
        },
        "id": "Virka0zLGc3R",
        "outputId": "dd5aee3a-9458-4ba6-e857-1b234de40915"
      },
      "outputs": [
        {
          "data": {
            "text/plain": [
              "Education                   int64\n",
              "Age                         int64\n",
              "DistanceFromHome            int64\n",
              "JobSatisfaction             int64\n",
              "OverTime                   object\n",
              "StockOptionLevel            int64\n",
              "WorkLifeBalance             int64\n",
              "YearsAtCompany              int64\n",
              "YearsSinceLastPromotion     int64\n",
              "NumCompaniesWorked          int64\n",
              "dtype: object"
            ]
          },
          "execution_count": 4,
          "metadata": {},
          "output_type": "execute_result"
        }
      ],
      "source": [
        "# Create a list of at least 10 column names to use as X data\n",
        "sel_col = [\n",
        "    \"Education\",\n",
        "    \"Age\",\n",
        "    \"DistanceFromHome\",\n",
        "    \"JobSatisfaction\",\n",
        "    \"OverTime\",\n",
        "    \"StockOptionLevel\",\n",
        "    \"WorkLifeBalance\",\n",
        "    \"YearsAtCompany\",\n",
        "    \"YearsSinceLastPromotion\",\n",
        "    \"NumCompaniesWorked\",\n",
        "]\n",
        "\n",
        "# Create X_df using your selected columns\n",
        "X_df = attrition_df[sel_col]\n",
        "\n",
        "# Show the data types for X_df\n",
        "X_df.dtypes"
      ]
    },
    {
      "cell_type": "code",
      "execution_count": 5,
      "metadata": {},
      "outputs": [
        {
          "data": {
            "text/plain": [
              "OverTime\n",
              "No     1054\n",
              "Yes     416\n",
              "Name: count, dtype: int64"
            ]
          },
          "execution_count": 5,
          "metadata": {},
          "output_type": "execute_result"
        }
      ],
      "source": [
        "# Convert your X data to numeric data types however you see fit\n",
        "# Add new code cells as necessary\n",
        "X_df[\"OverTime\"].value_counts()"
      ]
    },
    {
      "cell_type": "code",
      "execution_count": 6,
      "metadata": {},
      "outputs": [
        {
          "name": "stderr",
          "output_type": "stream",
          "text": [
            "/var/folders/x2/qh793d497wd3pr7qgwn4zkmc0000gn/T/ipykernel_84831/395158491.py:1: SettingWithCopyWarning: \n",
            "A value is trying to be set on a copy of a slice from a DataFrame.\n",
            "Try using .loc[row_indexer,col_indexer] = value instead\n",
            "\n",
            "See the caveats in the documentation: https://pandas.pydata.org/pandas-docs/stable/user_guide/indexing.html#returning-a-view-versus-a-copy\n",
            "  X_df[\"OverTime\"] = X_df[\"OverTime\"].map({\"Yes\": 1, \"No\": 0})\n",
            "/var/folders/x2/qh793d497wd3pr7qgwn4zkmc0000gn/T/ipykernel_84831/395158491.py:2: SettingWithCopyWarning: \n",
            "A value is trying to be set on a copy of a slice from a DataFrame.\n",
            "Try using .loc[row_indexer,col_indexer] = value instead\n",
            "\n",
            "See the caveats in the documentation: https://pandas.pydata.org/pandas-docs/stable/user_guide/indexing.html#returning-a-view-versus-a-copy\n",
            "  X_df[\"OverTime\"] = X_df[\"OverTime\"].astype(\"int64\")\n"
          ]
        },
        {
          "data": {
            "text/plain": [
              "OverTime\n",
              "0    1054\n",
              "1     416\n",
              "Name: count, dtype: int64"
            ]
          },
          "execution_count": 6,
          "metadata": {},
          "output_type": "execute_result"
        }
      ],
      "source": [
        "X_df[\"OverTime\"] = X_df[\"OverTime\"].map({\"Yes\": 1, \"No\": 0})\n",
        "X_df[\"OverTime\"] = X_df[\"OverTime\"].astype(\"int64\")\n",
        "X_df[\"OverTime\"].value_counts()"
      ]
    },
    {
      "cell_type": "code",
      "execution_count": 7,
      "metadata": {
        "id": "KaJfdOGUMHMR"
      },
      "outputs": [],
      "source": [
        "# Split the data into training and testing sets\n",
        "from sklearn.model_selection import train_test_split\n",
        "\n",
        "X_train, X_test, y_train, y_test = train_test_split(X_df, y_df, random_state=1)"
      ]
    },
    {
      "cell_type": "code",
      "execution_count": 8,
      "metadata": {
        "id": "EWA-aIA5Gc3T"
      },
      "outputs": [],
      "source": [
        "# Create a StandardScaler\n",
        "X_scaler = StandardScaler()\n",
        "\n",
        "# Fit the StandardScaler to the training data\n",
        "X_scaler.fit(X_train)\n",
        "\n",
        "# Scale the training and testing data\n",
        "X_train_scaled = X_scaler.transform(X_train)\n",
        "X_test_scaled = X_scaler.transform(X_test)"
      ]
    },
    {
      "cell_type": "code",
      "execution_count": 9,
      "metadata": {},
      "outputs": [
        {
          "data": {
            "text/plain": [
              "array([[0., 1., 0.],\n",
              "       [0., 1., 0.],\n",
              "       [0., 0., 1.],\n",
              "       ...,\n",
              "       [1., 0., 0.],\n",
              "       [0., 0., 1.],\n",
              "       [0., 0., 1.]])"
            ]
          },
          "execution_count": 9,
          "metadata": {},
          "output_type": "execute_result"
        }
      ],
      "source": [
        "from sklearn.preprocessing import OneHotEncoder\n",
        "\n",
        "# Create a OneHotEncoder for the Department column\n",
        "department_encoder = OneHotEncoder(sparse_output=False)\n",
        "# Fit the encoder to the training data\n",
        "y_department_train = department_encoder.fit_transform(y_train[[\"Department\"]])\n",
        "y_department_test = department_encoder.transform(y_test[[\"Department\"]])\n",
        "y_department_train\n",
        "# Create two new variables by applying the encoder\n",
        "# to the training and testing data"
      ]
    },
    {
      "cell_type": "code",
      "execution_count": 10,
      "metadata": {
        "colab": {
          "base_uri": "https://localhost:8080/"
        },
        "id": "-G4DSpvFRrk4",
        "outputId": "9842e948-8a55-4b80-8fac-f96714e85589"
      },
      "outputs": [
        {
          "data": {
            "text/plain": [
              "array([[1., 0.],\n",
              "       [1., 0.],\n",
              "       [0., 1.],\n",
              "       ...,\n",
              "       [1., 0.],\n",
              "       [1., 0.],\n",
              "       [1., 0.]])"
            ]
          },
          "execution_count": 10,
          "metadata": {},
          "output_type": "execute_result"
        }
      ],
      "source": [
        "# Create a OneHotEncoder for the Attrition column\n",
        "attrition_encoder = OneHotEncoder(sparse_output=False)\n",
        "\n",
        "# Fit the encoder to the training data\n",
        "y_attrition_train = attrition_encoder.fit_transform(y_train[[\"Attrition\"]])\n",
        "y_attrition_test = attrition_encoder.transform(y_test[[\"Attrition\"]])\n",
        "# Create two new variables by applying the encoder\n",
        "# to the training and testing data\n",
        "y_attrition_train"
      ]
    },
    {
      "cell_type": "markdown",
      "metadata": {
        "id": "ykNmu_WWGc3T"
      },
      "source": [
        "## Create, Compile, and Train the Model\n"
      ]
    },
    {
      "cell_type": "code",
      "execution_count": 11,
      "metadata": {
        "id": "WUptZqmSGc3T"
      },
      "outputs": [],
      "source": [
        "# Find the number of columns in the X training data\n",
        "input_nodes = X_train.shape[1]\n",
        "\n",
        "# Create the input layer\n",
        "input_layer = layers.Input(shape=(input_nodes,), name=\"input_layer\")\n",
        "\n",
        "# Create at least two shared layers\n",
        "shared_layer1 = layers.Dense(64, activation=\"relu\", name=\"shared_layer1\")(input_layer)\n",
        "shared_layer2 = layers.Dense(128, activation=\"relu\", name=\"shared_layer2\")(\n",
        "    shared_layer1\n",
        ")"
      ]
    },
    {
      "cell_type": "code",
      "execution_count": 12,
      "metadata": {
        "id": "JukjTm2yTEqd"
      },
      "outputs": [],
      "source": [
        "# Create a branch for Department\n",
        "# with a hidden layer and an output layer\n",
        "\n",
        "# Create the hidden layer\n",
        "department_hidden = layers.Dense(32, activation=\"relu\", name=\"department_hidden\")(\n",
        "    shared_layer2\n",
        ")\n",
        "\n",
        "# Create the output layer\n",
        "department_output = layers.Dense(3, activation=\"softmax\", name=\"department_output\")(\n",
        "    department_hidden\n",
        ")"
      ]
    },
    {
      "cell_type": "code",
      "execution_count": 13,
      "metadata": {
        "id": "9OqhUiOJUBkR"
      },
      "outputs": [],
      "source": [
        "# Create a branch for Attrition\n",
        "# with a hidden layer and an output layer\n",
        "\n",
        "# Create the hidden layer\n",
        "attrition_hidden = layers.Dense(32, activation=\"relu\", name=\"attrition_hidden\")(\n",
        "    shared_layer2\n",
        ")\n",
        "# Create the output layer\n",
        "attrition_output = layers.Dense(2, activation=\"softmax\", name=\"attrition_output\")(\n",
        "    attrition_hidden\n",
        ")"
      ]
    },
    {
      "cell_type": "code",
      "execution_count": 14,
      "metadata": {},
      "outputs": [
        {
          "name": "stdout",
          "output_type": "stream",
          "text": [
            "Model: \"model\"\n",
            "__________________________________________________________________________________________________\n",
            " Layer (type)                   Output Shape         Param #     Connected to                     \n",
            "==================================================================================================\n",
            " input_layer (InputLayer)       [(None, 10)]         0           []                               \n",
            "                                                                                                  \n",
            " shared_layer1 (Dense)          (None, 64)           704         ['input_layer[0][0]']            \n",
            "                                                                                                  \n",
            " shared_layer2 (Dense)          (None, 128)          8320        ['shared_layer1[0][0]']          \n",
            "                                                                                                  \n",
            " department_hidden (Dense)      (None, 32)           4128        ['shared_layer2[0][0]']          \n",
            "                                                                                                  \n",
            " attrition_hidden (Dense)       (None, 32)           4128        ['shared_layer2[0][0]']          \n",
            "                                                                                                  \n",
            " department_output (Dense)      (None, 3)            99          ['department_hidden[0][0]']      \n",
            "                                                                                                  \n",
            " attrition_output (Dense)       (None, 2)            66          ['attrition_hidden[0][0]']       \n",
            "                                                                                                  \n",
            "==================================================================================================\n",
            "Total params: 17,445\n",
            "Trainable params: 17,445\n",
            "Non-trainable params: 0\n",
            "__________________________________________________________________________________________________\n"
          ]
        }
      ],
      "source": [
        "# Create the model\n",
        "model = Model(inputs=input_layer, outputs=[department_output, attrition_output])\n",
        "\n",
        "# Compile the model\n",
        "model.compile(\n",
        "    optimizer=\"adam\",\n",
        "    loss={\n",
        "        \"department_output\": \"categorical_crossentropy\",\n",
        "        \"attrition_output\": \"categorical_crossentropy\",\n",
        "    },\n",
        "    metrics={\n",
        "        \"department_output\": \"accuracy\",\n",
        "        \"attrition_output\": \"accuracy\",\n",
        "    },\n",
        ")\n",
        "\n",
        "# Summarize the model\n",
        "model.summary()"
      ]
    },
    {
      "cell_type": "code",
      "execution_count": 15,
      "metadata": {},
      "outputs": [
        {
          "name": "stderr",
          "output_type": "stream",
          "text": [
            "2024-04-24 15:01:14.999099: W tensorflow/tsl/platform/profile_utils/cpu_utils.cc:128] Failed to get CPU frequency: 0 Hz\n"
          ]
        },
        {
          "name": "stdout",
          "output_type": "stream",
          "text": [
            "Epoch 1/50\n",
            "28/28 [==============================] - 0s 5ms/step - loss: 1.4305 - department_output_loss: 0.9201 - attrition_output_loss: 0.5104 - department_output_accuracy: 0.5800 - attrition_output_accuracy: 0.8104 - val_loss: 1.3218 - val_department_output_loss: 0.8306 - val_attrition_output_loss: 0.4912 - val_department_output_accuracy: 0.6335 - val_attrition_output_accuracy: 0.8281\n",
            "Epoch 2/50\n",
            "28/28 [==============================] - 0s 1ms/step - loss: 1.1629 - department_output_loss: 0.7702 - attrition_output_loss: 0.3927 - department_output_accuracy: 0.6640 - attrition_output_accuracy: 0.8524 - val_loss: 1.2985 - val_department_output_loss: 0.8352 - val_attrition_output_loss: 0.4632 - val_department_output_accuracy: 0.6335 - val_attrition_output_accuracy: 0.8235\n",
            "Epoch 3/50\n",
            "28/28 [==============================] - 0s 1ms/step - loss: 1.1156 - department_output_loss: 0.7594 - attrition_output_loss: 0.3562 - department_output_accuracy: 0.6640 - attrition_output_accuracy: 0.8558 - val_loss: 1.3105 - val_department_output_loss: 0.8505 - val_attrition_output_loss: 0.4600 - val_department_output_accuracy: 0.6335 - val_attrition_output_accuracy: 0.8281\n",
            "Epoch 4/50\n",
            "28/28 [==============================] - 0s 1ms/step - loss: 1.0864 - department_output_loss: 0.7511 - attrition_output_loss: 0.3353 - department_output_accuracy: 0.6640 - attrition_output_accuracy: 0.8729 - val_loss: 1.3099 - val_department_output_loss: 0.8474 - val_attrition_output_loss: 0.4625 - val_department_output_accuracy: 0.6244 - val_attrition_output_accuracy: 0.8281\n",
            "Epoch 5/50\n",
            "28/28 [==============================] - 0s 1ms/step - loss: 1.0653 - department_output_loss: 0.7407 - attrition_output_loss: 0.3246 - department_output_accuracy: 0.6652 - attrition_output_accuracy: 0.8820 - val_loss: 1.3420 - val_department_output_loss: 0.8682 - val_attrition_output_loss: 0.4737 - val_department_output_accuracy: 0.6335 - val_attrition_output_accuracy: 0.8281\n",
            "Epoch 6/50\n",
            "28/28 [==============================] - 0s 2ms/step - loss: 1.0479 - department_output_loss: 0.7361 - attrition_output_loss: 0.3118 - department_output_accuracy: 0.6640 - attrition_output_accuracy: 0.8831 - val_loss: 1.3450 - val_department_output_loss: 0.8680 - val_attrition_output_loss: 0.4770 - val_department_output_accuracy: 0.6335 - val_attrition_output_accuracy: 0.8235\n",
            "Epoch 7/50\n",
            " 1/28 [>.............................] - ETA: 0s - loss: 0.9381 - department_output_loss: 0.7911 - attrition_output_loss: 0.1470 - department_output_accuracy: 0.6250 - attrition_output_accuracy: 0.9688"
          ]
        },
        {
          "name": "stdout",
          "output_type": "stream",
          "text": [
            "28/28 [==============================] - 0s 1ms/step - loss: 1.0266 - department_output_loss: 0.7290 - attrition_output_loss: 0.2976 - department_output_accuracy: 0.6663 - attrition_output_accuracy: 0.8831 - val_loss: 1.3330 - val_department_output_loss: 0.8621 - val_attrition_output_loss: 0.4709 - val_department_output_accuracy: 0.6199 - val_attrition_output_accuracy: 0.8281\n",
            "Epoch 8/50\n",
            "28/28 [==============================] - 0s 1ms/step - loss: 1.0099 - department_output_loss: 0.7207 - attrition_output_loss: 0.2892 - department_output_accuracy: 0.6686 - attrition_output_accuracy: 0.8876 - val_loss: 1.3597 - val_department_output_loss: 0.8787 - val_attrition_output_loss: 0.4811 - val_department_output_accuracy: 0.6154 - val_attrition_output_accuracy: 0.8235\n",
            "Epoch 9/50\n",
            "28/28 [==============================] - 0s 1ms/step - loss: 0.9910 - department_output_loss: 0.7099 - attrition_output_loss: 0.2811 - department_output_accuracy: 0.6708 - attrition_output_accuracy: 0.8944 - val_loss: 1.3689 - val_department_output_loss: 0.8785 - val_attrition_output_loss: 0.4904 - val_department_output_accuracy: 0.6154 - val_attrition_output_accuracy: 0.8235\n",
            "Epoch 10/50\n",
            "28/28 [==============================] - 0s 2ms/step - loss: 0.9745 - department_output_loss: 0.7010 - attrition_output_loss: 0.2734 - department_output_accuracy: 0.6731 - attrition_output_accuracy: 0.8967 - val_loss: 1.3715 - val_department_output_loss: 0.8791 - val_attrition_output_loss: 0.4924 - val_department_output_accuracy: 0.6063 - val_attrition_output_accuracy: 0.8235\n",
            "Epoch 11/50\n",
            "28/28 [==============================] - 0s 2ms/step - loss: 0.9581 - department_output_loss: 0.6953 - attrition_output_loss: 0.2628 - department_output_accuracy: 0.6833 - attrition_output_accuracy: 0.8933 - val_loss: 1.4254 - val_department_output_loss: 0.9002 - val_attrition_output_loss: 0.5253 - val_department_output_accuracy: 0.6109 - val_attrition_output_accuracy: 0.8281\n",
            "Epoch 12/50\n",
            "28/28 [==============================] - 0s 6ms/step - loss: 0.9505 - department_output_loss: 0.6887 - attrition_output_loss: 0.2619 - department_output_accuracy: 0.6833 - attrition_output_accuracy: 0.9012 - val_loss: 1.3878 - val_department_output_loss: 0.8855 - val_attrition_output_loss: 0.5023 - val_department_output_accuracy: 0.5928 - val_attrition_output_accuracy: 0.8326\n",
            "Epoch 13/50\n",
            "28/28 [==============================] - 0s 2ms/step - loss: 0.9343 - department_output_loss: 0.6783 - attrition_output_loss: 0.2559 - department_output_accuracy: 0.6992 - attrition_output_accuracy: 0.9137 - val_loss: 1.4060 - val_department_output_loss: 0.9051 - val_attrition_output_loss: 0.5009 - val_department_output_accuracy: 0.5882 - val_attrition_output_accuracy: 0.8371\n",
            "Epoch 14/50\n",
            "28/28 [==============================] - 0s 1ms/step - loss: 0.9138 - department_output_loss: 0.6655 - attrition_output_loss: 0.2483 - department_output_accuracy: 0.7242 - attrition_output_accuracy: 0.9047 - val_loss: 1.4367 - val_department_output_loss: 0.9282 - val_attrition_output_loss: 0.5085 - val_department_output_accuracy: 0.6244 - val_attrition_output_accuracy: 0.8416\n",
            "Epoch 15/50\n",
            "28/28 [==============================] - 0s 1ms/step - loss: 0.8984 - department_output_loss: 0.6588 - attrition_output_loss: 0.2395 - department_output_accuracy: 0.7140 - attrition_output_accuracy: 0.9115 - val_loss: 1.4208 - val_department_output_loss: 0.9148 - val_attrition_output_loss: 0.5060 - val_department_output_accuracy: 0.5882 - val_attrition_output_accuracy: 0.8326\n",
            "Epoch 16/50\n",
            "28/28 [==============================] - 0s 1ms/step - loss: 0.8815 - department_output_loss: 0.6480 - attrition_output_loss: 0.2334 - department_output_accuracy: 0.7094 - attrition_output_accuracy: 0.9126 - val_loss: 1.4590 - val_department_output_loss: 0.9422 - val_attrition_output_loss: 0.5168 - val_department_output_accuracy: 0.6109 - val_attrition_output_accuracy: 0.8326\n",
            "Epoch 17/50\n",
            "28/28 [==============================] - 0s 1ms/step - loss: 0.8657 - department_output_loss: 0.6362 - attrition_output_loss: 0.2295 - department_output_accuracy: 0.7219 - attrition_output_accuracy: 0.9092 - val_loss: 1.4611 - val_department_output_loss: 0.9518 - val_attrition_output_loss: 0.5093 - val_department_output_accuracy: 0.6109 - val_attrition_output_accuracy: 0.8326\n",
            "Epoch 18/50\n",
            "28/28 [==============================] - 0s 1ms/step - loss: 0.8394 - department_output_loss: 0.6220 - attrition_output_loss: 0.2173 - department_output_accuracy: 0.7378 - attrition_output_accuracy: 0.9183 - val_loss: 1.4912 - val_department_output_loss: 0.9514 - val_attrition_output_loss: 0.5398 - val_department_output_accuracy: 0.5928 - val_attrition_output_accuracy: 0.8326\n",
            "Epoch 19/50\n",
            "28/28 [==============================] - 0s 1ms/step - loss: 0.8230 - department_output_loss: 0.6106 - attrition_output_loss: 0.2124 - department_output_accuracy: 0.7423 - attrition_output_accuracy: 0.9205 - val_loss: 1.4863 - val_department_output_loss: 0.9525 - val_attrition_output_loss: 0.5339 - val_department_output_accuracy: 0.5882 - val_attrition_output_accuracy: 0.8281\n",
            "Epoch 20/50\n",
            "28/28 [==============================] - 0s 1ms/step - loss: 0.7982 - department_output_loss: 0.5985 - attrition_output_loss: 0.1997 - department_output_accuracy: 0.7446 - attrition_output_accuracy: 0.9262 - val_loss: 1.5161 - val_department_output_loss: 0.9719 - val_attrition_output_loss: 0.5442 - val_department_output_accuracy: 0.5656 - val_attrition_output_accuracy: 0.8326\n",
            "Epoch 21/50\n",
            "28/28 [==============================] - 0s 1ms/step - loss: 0.7749 - department_output_loss: 0.5814 - attrition_output_loss: 0.1936 - department_output_accuracy: 0.7594 - attrition_output_accuracy: 0.9296 - val_loss: 1.5838 - val_department_output_loss: 1.0167 - val_attrition_output_loss: 0.5672 - val_department_output_accuracy: 0.6199 - val_attrition_output_accuracy: 0.8371\n",
            "Epoch 22/50\n",
            "28/28 [==============================] - 0s 1ms/step - loss: 0.7708 - department_output_loss: 0.5822 - attrition_output_loss: 0.1886 - department_output_accuracy: 0.7469 - attrition_output_accuracy: 0.9296 - val_loss: 1.5659 - val_department_output_loss: 0.9970 - val_attrition_output_loss: 0.5689 - val_department_output_accuracy: 0.5430 - val_attrition_output_accuracy: 0.8281\n",
            "Epoch 23/50\n",
            "28/28 [==============================] - 0s 1ms/step - loss: 0.7649 - department_output_loss: 0.5858 - attrition_output_loss: 0.1791 - department_output_accuracy: 0.7491 - attrition_output_accuracy: 0.9364 - val_loss: 1.5493 - val_department_output_loss: 0.9874 - val_attrition_output_loss: 0.5619 - val_department_output_accuracy: 0.5520 - val_attrition_output_accuracy: 0.8371\n",
            "Epoch 24/50\n",
            "28/28 [==============================] - 0s 1ms/step - loss: 0.7281 - department_output_loss: 0.5522 - attrition_output_loss: 0.1759 - department_output_accuracy: 0.7650 - attrition_output_accuracy: 0.9364 - val_loss: 1.6001 - val_department_output_loss: 1.0303 - val_attrition_output_loss: 0.5698 - val_department_output_accuracy: 0.5656 - val_attrition_output_accuracy: 0.8190\n",
            "Epoch 25/50\n",
            "28/28 [==============================] - 0s 1ms/step - loss: 0.7079 - department_output_loss: 0.5387 - attrition_output_loss: 0.1691 - department_output_accuracy: 0.7753 - attrition_output_accuracy: 0.9421 - val_loss: 1.6245 - val_department_output_loss: 1.0243 - val_attrition_output_loss: 0.6002 - val_department_output_accuracy: 0.5520 - val_attrition_output_accuracy: 0.8326\n",
            "Epoch 26/50\n",
            "28/28 [==============================] - 0s 1ms/step - loss: 0.6934 - department_output_loss: 0.5322 - attrition_output_loss: 0.1612 - department_output_accuracy: 0.7684 - attrition_output_accuracy: 0.9387 - val_loss: 1.6484 - val_department_output_loss: 1.0369 - val_attrition_output_loss: 0.6115 - val_department_output_accuracy: 0.5656 - val_attrition_output_accuracy: 0.8190\n",
            "Epoch 27/50\n",
            "28/28 [==============================] - 0s 1ms/step - loss: 0.6871 - department_output_loss: 0.5167 - attrition_output_loss: 0.1705 - department_output_accuracy: 0.7957 - attrition_output_accuracy: 0.9342 - val_loss: 1.6907 - val_department_output_loss: 1.0543 - val_attrition_output_loss: 0.6364 - val_department_output_accuracy: 0.5520 - val_attrition_output_accuracy: 0.8326\n",
            "Epoch 28/50\n",
            "28/28 [==============================] - 0s 1ms/step - loss: 0.6494 - department_output_loss: 0.4964 - attrition_output_loss: 0.1530 - department_output_accuracy: 0.8082 - attrition_output_accuracy: 0.9432 - val_loss: 1.7006 - val_department_output_loss: 1.0620 - val_attrition_output_loss: 0.6386 - val_department_output_accuracy: 0.5656 - val_attrition_output_accuracy: 0.8190\n",
            "Epoch 29/50\n",
            "28/28 [==============================] - 0s 1ms/step - loss: 0.6322 - department_output_loss: 0.4873 - attrition_output_loss: 0.1448 - department_output_accuracy: 0.8025 - attrition_output_accuracy: 0.9478 - val_loss: 1.7188 - val_department_output_loss: 1.1048 - val_attrition_output_loss: 0.6140 - val_department_output_accuracy: 0.5701 - val_attrition_output_accuracy: 0.8145\n",
            "Epoch 30/50\n",
            "28/28 [==============================] - 0s 1ms/step - loss: 0.5992 - department_output_loss: 0.4646 - attrition_output_loss: 0.1346 - department_output_accuracy: 0.8173 - attrition_output_accuracy: 0.9444 - val_loss: 1.7434 - val_department_output_loss: 1.0924 - val_attrition_output_loss: 0.6509 - val_department_output_accuracy: 0.5430 - val_attrition_output_accuracy: 0.8145\n",
            "Epoch 31/50\n",
            "28/28 [==============================] - 0s 1ms/step - loss: 0.5885 - department_output_loss: 0.4559 - attrition_output_loss: 0.1325 - department_output_accuracy: 0.8309 - attrition_output_accuracy: 0.9557 - val_loss: 1.7562 - val_department_output_loss: 1.1062 - val_attrition_output_loss: 0.6500 - val_department_output_accuracy: 0.5294 - val_attrition_output_accuracy: 0.8190\n",
            "Epoch 32/50\n",
            "28/28 [==============================] - 0s 1ms/step - loss: 0.5758 - department_output_loss: 0.4457 - attrition_output_loss: 0.1302 - department_output_accuracy: 0.8229 - attrition_output_accuracy: 0.9569 - val_loss: 1.8613 - val_department_output_loss: 1.1798 - val_attrition_output_loss: 0.6816 - val_department_output_accuracy: 0.5520 - val_attrition_output_accuracy: 0.8190\n",
            "Epoch 33/50\n",
            "28/28 [==============================] - 0s 1ms/step - loss: 0.5675 - department_output_loss: 0.4454 - attrition_output_loss: 0.1221 - department_output_accuracy: 0.8150 - attrition_output_accuracy: 0.9580 - val_loss: 1.8531 - val_department_output_loss: 1.1356 - val_attrition_output_loss: 0.7174 - val_department_output_accuracy: 0.5339 - val_attrition_output_accuracy: 0.8235\n",
            "Epoch 34/50\n",
            "28/28 [==============================] - 0s 1ms/step - loss: 0.5406 - department_output_loss: 0.4187 - attrition_output_loss: 0.1219 - department_output_accuracy: 0.8422 - attrition_output_accuracy: 0.9580 - val_loss: 1.9137 - val_department_output_loss: 1.1794 - val_attrition_output_loss: 0.7343 - val_department_output_accuracy: 0.5430 - val_attrition_output_accuracy: 0.7738\n",
            "Epoch 35/50\n",
            "28/28 [==============================] - 0s 1ms/step - loss: 0.5218 - department_output_loss: 0.3978 - attrition_output_loss: 0.1240 - department_output_accuracy: 0.8581 - attrition_output_accuracy: 0.9591 - val_loss: 1.9288 - val_department_output_loss: 1.1824 - val_attrition_output_loss: 0.7464 - val_department_output_accuracy: 0.5339 - val_attrition_output_accuracy: 0.8190\n",
            "Epoch 36/50\n",
            "28/28 [==============================] - 0s 1ms/step - loss: 0.4857 - department_output_loss: 0.3812 - attrition_output_loss: 0.1044 - department_output_accuracy: 0.8604 - attrition_output_accuracy: 0.9705 - val_loss: 1.9591 - val_department_output_loss: 1.2026 - val_attrition_output_loss: 0.7564 - val_department_output_accuracy: 0.5430 - val_attrition_output_accuracy: 0.8190\n",
            "Epoch 37/50\n",
            "28/28 [==============================] - 0s 1ms/step - loss: 0.4761 - department_output_loss: 0.3730 - attrition_output_loss: 0.1032 - department_output_accuracy: 0.8502 - attrition_output_accuracy: 0.9659 - val_loss: 1.9503 - val_department_output_loss: 1.1987 - val_attrition_output_loss: 0.7516 - val_department_output_accuracy: 0.5204 - val_attrition_output_accuracy: 0.8100\n",
            "Epoch 38/50\n",
            "28/28 [==============================] - 0s 1ms/step - loss: 0.4575 - department_output_loss: 0.3571 - attrition_output_loss: 0.1004 - department_output_accuracy: 0.8649 - attrition_output_accuracy: 0.9648 - val_loss: 2.0946 - val_department_output_loss: 1.2828 - val_attrition_output_loss: 0.8118 - val_department_output_accuracy: 0.5339 - val_attrition_output_accuracy: 0.8100\n",
            "Epoch 39/50\n",
            "28/28 [==============================] - 0s 1ms/step - loss: 0.4470 - department_output_loss: 0.3498 - attrition_output_loss: 0.0972 - department_output_accuracy: 0.8695 - attrition_output_accuracy: 0.9682 - val_loss: 2.0805 - val_department_output_loss: 1.2648 - val_attrition_output_loss: 0.8157 - val_department_output_accuracy: 0.5249 - val_attrition_output_accuracy: 0.8100\n",
            "Epoch 40/50\n",
            "28/28 [==============================] - 0s 1ms/step - loss: 0.4192 - department_output_loss: 0.3307 - attrition_output_loss: 0.0885 - department_output_accuracy: 0.8797 - attrition_output_accuracy: 0.9739 - val_loss: 2.0944 - val_department_output_loss: 1.2641 - val_attrition_output_loss: 0.8303 - val_department_output_accuracy: 0.5339 - val_attrition_output_accuracy: 0.8190\n",
            "Epoch 41/50\n",
            "28/28 [==============================] - 0s 1ms/step - loss: 0.4035 - department_output_loss: 0.3171 - attrition_output_loss: 0.0864 - department_output_accuracy: 0.8831 - attrition_output_accuracy: 0.9762 - val_loss: 2.1299 - val_department_output_loss: 1.2839 - val_attrition_output_loss: 0.8459 - val_department_output_accuracy: 0.5204 - val_attrition_output_accuracy: 0.8054\n",
            "Epoch 42/50\n",
            "28/28 [==============================] - 0s 1ms/step - loss: 0.3788 - department_output_loss: 0.3021 - attrition_output_loss: 0.0767 - department_output_accuracy: 0.8990 - attrition_output_accuracy: 0.9728 - val_loss: 2.2818 - val_department_output_loss: 1.4046 - val_attrition_output_loss: 0.8772 - val_department_output_accuracy: 0.5249 - val_attrition_output_accuracy: 0.8009\n",
            "Epoch 43/50\n",
            "28/28 [==============================] - 0s 1ms/step - loss: 0.3586 - department_output_loss: 0.2886 - attrition_output_loss: 0.0700 - department_output_accuracy: 0.9001 - attrition_output_accuracy: 0.9807 - val_loss: 2.2429 - val_department_output_loss: 1.3816 - val_attrition_output_loss: 0.8612 - val_department_output_accuracy: 0.5204 - val_attrition_output_accuracy: 0.8009\n",
            "Epoch 44/50\n",
            "28/28 [==============================] - 0s 1ms/step - loss: 0.3404 - department_output_loss: 0.2718 - attrition_output_loss: 0.0686 - department_output_accuracy: 0.9137 - attrition_output_accuracy: 0.9830 - val_loss: 2.3362 - val_department_output_loss: 1.4171 - val_attrition_output_loss: 0.9191 - val_department_output_accuracy: 0.5520 - val_attrition_output_accuracy: 0.8100\n",
            "Epoch 45/50\n",
            "28/28 [==============================] - 0s 1ms/step - loss: 0.3176 - department_output_loss: 0.2563 - attrition_output_loss: 0.0613 - department_output_accuracy: 0.9194 - attrition_output_accuracy: 0.9830 - val_loss: 2.3707 - val_department_output_loss: 1.4500 - val_attrition_output_loss: 0.9207 - val_department_output_accuracy: 0.5113 - val_attrition_output_accuracy: 0.7783\n",
            "Epoch 46/50\n",
            "28/28 [==============================] - 0s 1ms/step - loss: 0.3104 - department_output_loss: 0.2537 - attrition_output_loss: 0.0567 - department_output_accuracy: 0.9183 - attrition_output_accuracy: 0.9841 - val_loss: 2.4169 - val_department_output_loss: 1.4745 - val_attrition_output_loss: 0.9424 - val_department_output_accuracy: 0.4932 - val_attrition_output_accuracy: 0.8054\n",
            "Epoch 47/50\n",
            "28/28 [==============================] - 0s 1ms/step - loss: 0.2904 - department_output_loss: 0.2364 - attrition_output_loss: 0.0540 - department_output_accuracy: 0.9308 - attrition_output_accuracy: 0.9852 - val_loss: 2.4669 - val_department_output_loss: 1.4836 - val_attrition_output_loss: 0.9833 - val_department_output_accuracy: 0.5475 - val_attrition_output_accuracy: 0.8054\n",
            "Epoch 48/50\n",
            "28/28 [==============================] - 0s 1ms/step - loss: 0.2850 - department_output_loss: 0.2334 - attrition_output_loss: 0.0516 - department_output_accuracy: 0.9308 - attrition_output_accuracy: 0.9898 - val_loss: 2.5164 - val_department_output_loss: 1.5126 - val_attrition_output_loss: 1.0037 - val_department_output_accuracy: 0.5249 - val_attrition_output_accuracy: 0.7873\n",
            "Epoch 49/50\n",
            "28/28 [==============================] - 0s 1ms/step - loss: 0.2598 - department_output_loss: 0.2132 - attrition_output_loss: 0.0466 - department_output_accuracy: 0.9432 - attrition_output_accuracy: 0.9886 - val_loss: 2.5729 - val_department_output_loss: 1.5495 - val_attrition_output_loss: 1.0234 - val_department_output_accuracy: 0.5339 - val_attrition_output_accuracy: 0.7964\n",
            "Epoch 50/50\n",
            "28/28 [==============================] - 0s 1ms/step - loss: 0.2440 - department_output_loss: 0.2008 - attrition_output_loss: 0.0432 - department_output_accuracy: 0.9467 - attrition_output_accuracy: 0.9921 - val_loss: 2.6499 - val_department_output_loss: 1.5917 - val_attrition_output_loss: 1.0582 - val_department_output_accuracy: 0.5113 - val_attrition_output_accuracy: 0.7919\n"
          ]
        },
        {
          "data": {
            "text/plain": [
              "<keras.callbacks.History at 0x17a2c0210>"
            ]
          },
          "execution_count": 15,
          "metadata": {},
          "output_type": "execute_result"
        }
      ],
      "source": [
        "# Fit the model\n",
        "model.fit(\n",
        "    X_train_scaled,\n",
        "    {\"department_output\": y_department_train, \"attrition_output\": y_attrition_train},\n",
        "    epochs=50,\n",
        "    batch_size=32,\n",
        "    validation_split=0.2,\n",
        ")"
      ]
    },
    {
      "cell_type": "code",
      "execution_count": 17,
      "metadata": {
        "colab": {
          "base_uri": "https://localhost:8080/"
        },
        "id": "VsMoaQlgGc3U",
        "outputId": "1bd4e601-e964-4abc-ad83-aeecf6b696be"
      },
      "outputs": [
        {
          "name": "stdout",
          "output_type": "stream",
          "text": [
            "12/12 [==============================] - 0s 573us/step - loss: 2.3957 - department_output_loss: 1.4063 - attrition_output_loss: 0.9894 - department_output_accuracy: 0.5598 - attrition_output_accuracy: 0.8043\n"
          ]
        },
        {
          "data": {
            "text/plain": [
              "[2.3957135677337646,\n",
              " 1.406286597251892,\n",
              " 0.9894269108772278,\n",
              " 0.5597826242446899,\n",
              " 0.804347813129425]"
            ]
          },
          "execution_count": 17,
          "metadata": {},
          "output_type": "execute_result"
        }
      ],
      "source": [
        "# Evaluate the model with the testing data\n",
        "model_eval = model.evaluate(\n",
        "    X_test_scaled,\n",
        "    {\"department_output\": y_department_test, \"attrition_output\": y_attrition_test},\n",
        ")\n",
        "model_eval"
      ]
    },
    {
      "cell_type": "code",
      "execution_count": 18,
      "metadata": {
        "colab": {
          "base_uri": "https://localhost:8080/"
        },
        "id": "ZlCtlHi0Vt54",
        "outputId": "bc21ef3e-80c2-4b38-9c29-79515bc23dec"
      },
      "outputs": [
        {
          "name": "stdout",
          "output_type": "stream",
          "text": [
            "Department predictions accuracy: 0.5597826242446899\n",
            "Attrition predictions accuracy: 0.804347813129425\n"
          ]
        }
      ],
      "source": [
        "# Print the accuracy for both department and attrition\n",
        "# Print the quality and color accuracy\n",
        "print(f\"Department predictions accuracy: {model_eval[3]}\")\n",
        "print(f\"Attrition predictions accuracy: {model_eval[4]}\")"
      ]
    },
    {
      "cell_type": "markdown",
      "metadata": {
        "id": "eGSyfsZfWOQM"
      },
      "source": [
        "# Summary\n",
        "\n",
        "In the provided space below, briefly answer the following questions.\n",
        "\n",
        "1. Is accuracy the best metric to use on this data? Why or why not?\n",
        "\n",
        "2. What activation functions did you choose for your output layers, and why?\n",
        "\n",
        "3. Can you name a few ways that this model might be improved?\n"
      ]
    },
    {
      "cell_type": "markdown",
      "metadata": {
        "id": "pi9SLpFnWvbF"
      },
      "source": [
        "YOUR ANSWERS HERE\n",
        "\n",
        "1. Accuracy isn't always the best way to judge our model. For 'Department' predictions where the accuracy is just about 56%, it hints that maybe the data isn't evenly spread across all classes. And for 'Attrition', even though we got 80% accuracy, it’s good to check other stats like precision or recall to really understand if we’re catching all the right cases, especially the tricky ones.\n",
        "2. I went with the softmax activation function for both outputs. It’s great for cases where you need to pick one class out of many, like our departments, because it gives a probability for each class, making it clear which one’s the most likely pick.\n",
        "3.\n",
        "\n",
        "- **More Data**: Especially for departments where accuracy is low, more examples could help.\n",
        "- **Tweak the Knobs**: Playing around with the model’s settings, like how fast it learns or how it processes data in batches, might boost performance.\n",
        "- **Mix Up the Features**: Maybe adding some new features or tweaking the existing ones could help the model see things more clearly.\"\n"
      ]
    },
    {
      "cell_type": "markdown",
      "metadata": {},
      "source": []
    }
  ],
  "metadata": {
    "colab": {
      "provenance": []
    },
    "kernelspec": {
      "display_name": "Python 3",
      "language": "python",
      "name": "python3"
    },
    "language_info": {
      "codemirror_mode": {
        "name": "ipython",
        "version": 3
      },
      "file_extension": ".py",
      "mimetype": "text/x-python",
      "name": "python",
      "nbconvert_exporter": "python",
      "pygments_lexer": "ipython3",
      "version": "3.11.5"
    },
    "vscode": {
      "interpreter": {
        "hash": "31f2aee4e71d21fbe5cf8b01ff0e069b9275f58929596ceb00d14d90e3e16cd6"
      }
    }
  },
  "nbformat": 4,
  "nbformat_minor": 0
}
